{
 "cells": [
  {
   "cell_type": "markdown",
   "metadata": {},
   "source": [
    "__Soyal Maner Wipro Code__"
   ]
  },
  {
   "cell_type": "code",
   "execution_count": 38,
   "metadata": {},
   "outputs": [
    {
     "name": "stdout",
     "output_type": "stream",
     "text": [
      "5264\n",
      "Q\n"
     ]
    }
   ],
   "source": [
    "appid = input()\n",
    "sum = 0\n",
    "adjust = 0\n",
    "alpha = ['_','A', 'B', 'C', 'D', 'E', 'F', 'G', 'H', 'I', 'J', 'K', 'L', 'M', 'N', 'O', 'P', 'Q', 'R', 'S', 'T', 'U', 'V', 'W', 'X', 'Y', 'Z']\n",
    "for num in appid:\n",
    "    sum += int(num)\n",
    "if sum >26:\n",
    "    x = str(sum)\n",
    "    for i in x:\n",
    "        adjust += int(i)\n",
    "    print(alpha[adjust])\n",
    "else:\n",
    "    print(alpha[sum])"
   ]
  },
  {
   "cell_type": "markdown",
   "metadata": {},
   "source": [
    "__Neha Bhosale Wipro Code__"
   ]
  },
  {
   "cell_type": "code",
   "execution_count": 40,
   "metadata": {},
   "outputs": [
    {
     "name": "stdout",
     "output_type": "stream",
     "text": [
      "1234 5678 9874\n",
      "3\n"
     ]
    }
   ],
   "source": [
    "def findmax(lit): #function returns the largest number\n",
    "    lit.sort()\n",
    "    return lit[-1]\n",
    "\n",
    "def find2max(lit): #function returns the second largest number\n",
    "    lit.sort()\n",
    "    return lit[-2]\n",
    "\n",
    "num = input()\n",
    "lst = list(num.split(\" \")) #separating each number\n",
    "bigboy = [] #list with nested list containing separate digits\n",
    "addition = [] #list with result of substraction from each list\n",
    "kashi = 0 #total addition of substracted values\n",
    "\n",
    "for each in lst:\n",
    "    seplist = [] #splitted list of each digit of every integer\n",
    "    for eachagain in str(each):\n",
    "        integer = int(eachagain) #converting from str to int\n",
    "        seplist.append(integer)\n",
    "    bigboy.append(seplist)\n",
    "\n",
    "for i in range(0,(len(bigboy))): # to iterate through each sublist of the nested list\n",
    "    maxx = findmax(bigboy[i])\n",
    "    maxx1 = find2max(bigboy[i])\n",
    "    addition.append(maxx-maxx1) #list will all the substracted values\n",
    "    \n",
    "for i in addition: #addition of the values\n",
    "    kashi +=i\n",
    "print(kashi)"
   ]
  }
 ],
 "metadata": {
  "kernelspec": {
   "display_name": "Python 3",
   "language": "python",
   "name": "python3"
  },
  "language_info": {
   "codemirror_mode": {
    "name": "ipython",
    "version": 3
   },
   "file_extension": ".py",
   "mimetype": "text/x-python",
   "name": "python",
   "nbconvert_exporter": "python",
   "pygments_lexer": "ipython3",
   "version": "3.7.6"
  }
 },
 "nbformat": 4,
 "nbformat_minor": 4
}